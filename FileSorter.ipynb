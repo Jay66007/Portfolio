{
 "cells": [
  {
   "cell_type": "code",
   "execution_count": 1,
   "id": "initial_id",
   "metadata": {
    "collapsed": true,
    "ExecuteTime": {
     "end_time": "2023-12-24T23:12:12.222793Z",
     "start_time": "2023-12-24T23:12:12.213853Z"
    }
   },
   "outputs": [],
   "source": [
    "import os,shutil"
   ]
  },
  {
   "cell_type": "code",
   "execution_count": 2,
   "outputs": [],
   "source": [
    "path = r\"/Users/jay/Downloads\""
   ],
   "metadata": {
    "collapsed": false,
    "ExecuteTime": {
     "end_time": "2023-12-24T23:12:30.546186Z",
     "start_time": "2023-12-24T23:12:30.542040Z"
    }
   },
   "id": "14139514369dce25"
  },
  {
   "cell_type": "code",
   "execution_count": 3,
   "outputs": [
    {
     "data": {
      "text/plain": "['37_J_Singh_Chrom_Autoso_20231220.csv',\n '1693434257561282.png',\n 'producerconsumersolution',\n 'Jaskirat Singh UG.docx',\n '1694474072728035.jpeg',\n 'googlechrome.dmg',\n 'XT1tcyaLOrfCDXXSKxLEde5ZFjrGWL.jpeg',\n 'download.jpeg',\n '2583008.2583034.pdf',\n 'scholar-17.enw',\n 'WallpaperDog-20555915.jpg',\n 'Jaskirat Singh_CO2402 Assignment',\n '7j6h3e.png',\n 'Eddie.app',\n 'sad-musashi-v0-sd64jajntpsa1.jpg.webp',\n 'Visual Studio Code.app',\n 'scholar-16.enw',\n 'scholar (3).enw',\n '[Pajeet] 20th Century Boys & 21st Century Boys',\n 'pepe-frog-lede-9-28-16.jpg',\n 'iina-1.2.0-13.tar.gz',\n 'mental_v10i1e47285.end',\n '1693725623481.jpeg',\n 'Pokemon8.png',\n 'Johanprofile.webp',\n 'AVA COVER LETTER.docx',\n '1681076147822991.jpeg',\n 'zendaya-.jpeg',\n 'scholar-28.enw',\n 'scholar-14.enw',\n 'YACReader-9.12.0.2304234.MacOSX-Intel.Qt6.dmg',\n 'scholar-15.enw',\n 'archive (2).zip',\n 'acm_2702123.2702230.enw',\n 'pycharm-professional-2023.2.5-aarch64.dmg',\n 'bib2x_0.9_osx_ppc.tar',\n 'practical_C5_pool.doc',\n 'pygame-1.9.6.tar.gz',\n 'Pokemon9.png',\n 'My EndNote Library.enl',\n 'pua37krxagaklmm1.jpg',\n '1328058846.0.jpg',\n 'movie_dataset.csv',\n 'maxresdefault (1).jpeg',\n 'c9a19625595a2e0876da0a35fe3e27b7.jpeg',\n 'mqdefault.jpeg',\n 'practical_C3_producerconsumersem.doc',\n 'mv5bnmnknwu5nzutnmvkns00zde2ltg0njgtntixnwyxowiym2flxkeyxkfqcgdeqwfkcmlly2xh.-v1-.webp',\n '.DS_Store',\n '1*hGEEitUgxU4nQxtX8q1rsA.jpg',\n 'scholar-11.enw',\n 'Jaskirat-Singh.pdf',\n 'scholar-10.enw',\n 'The.Deer.Hunter.1978.SHOUT.2160p.UHD.BluRay.x265.10bit.HDR.DTS-HD.MA.5.1-RARBG',\n '1693110971444968.webm',\n 'CLion-2023.1.dmg',\n 'ssstwitter.com_1699771810730.mp4',\n '~$oject deliverable 2.docx',\n '~$e_Pragmatic_Engineers_Resume_Template.docx',\n 'La.belle.noiseuse.1991 BDRemux.1080p.mkv',\n '1692822711827672.jpeg',\n '1.jpeg',\n 'image-w1280.webp',\n '1699270479736939.webm',\n 'Task.docx',\n 'scholar-12.enw',\n 'scholar (2).enw',\n 'diaz-andreadb-sm-idm-2021-thesis.pdf',\n '5242865416.pdf',\n 'Cite_Them_Right-Harvard.ens',\n 'javafx-sdk-21.0.1',\n 'Drive (2011) V2 (2160p BluRay x265 HEVC 10bit HDR AAC 7.1 Tigole)',\n 'practical_C4_readerwriter.doc',\n 'scholar-13.enw',\n '.localized',\n '5 Centimeters Per Second [2007] 1080p ITA BDRip x265 DTS-HD MA 5.1 Kira [SEV]',\n 'googlechrome-2.dmg',\n 'Zodiac DC (2007).mkv',\n 'p05j0hpb.jpeg',\n 'RadAI.zip',\n 'EndNote21Installer.dmg',\n 'scholar.enw',\n 'LogbookFeburary-SINGH_JASKIRAT.docx',\n 'acm_3434780.3436584.enw',\n 'PdJKGwp.jpeg',\n '1693855602473789.png',\n 'scholar-3.enw',\n 'maxresdefault.jpg',\n 'Logbook August Jaskirat.docx',\n 'IINA.v1.3.3.dmg',\n 'e5zoQw-hgw-LCjdhC_4G8IAcHxex5pzda_BD_FPTcBY.png.webp',\n '1694545473393898.webm',\n 'n16naag8e4z71.jpeg',\n 'The.Young.Pope.S01.1080p.BluRay.x265-RARBG',\n 'scholar-2.enw',\n 'List of courses eligible for extended post-study work rights_With150.pdf',\n 'The.Man.Who.Sleeps.1974.(Bernard.Queysanne-Cult).720p.x264-Classics',\n 'uZILowuidCntzpEe_3GGaFzLGlCeuURvRDYXQ5UBmMY.png.webp',\n 'SSRN-id4004373.pdf',\n 'gabnzj9sp1o71.jpg',\n 'CO3408 C3 Semaphores.pptx',\n 'alex-pereira-pereira-ufc-2.gif',\n 'Recommender system.pptx',\n 'eddie-ui_2.21.8_macos-10.15_arm64_portable.zip',\n 'IMDB Dataset-1.csv',\n 'Sentiment Analysis Project.ipynb',\n 'iina-1.2.0-13',\n 'The_Pragmatic_Engineers_Resume_Template.docx',\n 'scholar (5).enw',\n '78u.jpeg',\n 'Sample Outputs - Seed 47',\n 'heart+disease.zip',\n 'alex-pereira-pereira-ufc.gif',\n 'heart.csv',\n 'Automated_Time_Manager_Effectiveness_of_Self-Regul.pdf',\n 'bib2x-0.9.0',\n 'VisualStudioForMacInstaller__53649af159624605abe7fa67f70bbe16.dmg',\n 'acm_3240925.3240929.enw',\n 'alex-pereira-pereira-ufc-3.gif',\n '1693175206002483.jpeg',\n 'tiot35.pdf',\n 'muffin_vs_cupcake_demo.ipynb',\n 'Google Colab - google_colab_tutorial.docx',\n 'Pokemon10.png',\n 'scholar-5.enw',\n 'scholar (4).enw',\n '125981215.pdf',\n 'poster,840x830,f8f8f8-pad,1000x1000,f8f8f8.jpeg',\n 'IN55317_detailed_segments_data.csv',\n 'IMDB_Movie_Review_Analysis-Worksheet.docx',\n 'amerikeks.webm',\n 'scholar-4.enw',\n '~$DB_Movie_Review_Analysis-Worksheet.docx',\n '1693349292902498.jpeg',\n '1692099223557259.jpeg',\n '1693176626124775.png',\n 'ssstwitter.com_1699771810730.webm',\n '1693497065972558.png',\n '1694547465601126.webm',\n 'MV5BZWQ3ZDQ3MTYtZWUyOS00YmFhLTllOWItNzNmNjE0ZDI5YWE5XkEyXkFqcGdeQXVyMTUzMTg2ODkz._V1_FMjpg_UX1000_.jpg',\n 'yoga-pants-25.png',\n 'Logbook_January-SINGH_JASKIRAT.docx',\n 'Suspiria.1977.US.REMASTER.4K.HDR.2160p.BDRip Ita Eng x265-NAHOM',\n 'scholar-6.enw',\n 'threadpool',\n 'nextimg.png.jpeg',\n 'acm_3565472.3592953.enw',\n 'scholar-7.enw',\n 'vagabond-takehiko-inoue-wallpaper-f8caaa3ad89c7da1451d37cc5449be15-2.jpg',\n 'cillianmurphy.avif',\n 'Research Task',\n 'Logbook August Jaskirat-2.docx',\n 'Rome.2005.S01.1080p.BluRay.x265-RARBG',\n 'Eric Matthes, Python Crash Course - A Hands-On, Project-Based Introduction to Programming (2019).pdf',\n 'yv5xhfznvof91.jpg-2.jpg',\n 'files-WhatsApp.dmg',\n 'Project deliverable 2.docx',\n 'blade-runner-2049-4k-wallpapers-part-1-v0-915hg3n7nmwa1.jpg',\n 'FinalReportTemplate.docx',\n 'CO3519 Assessment 1 Brief 2023-2024.pdf',\n 'WallpaperDog-20555764.jpg',\n 'CO1605 Assessment 1 Reassessment Brief 2020-2021.docx',\n 'Transmission-4.0.2.dmg',\n 'User-InterfaceUser-Experience-Design-for-Mobile-Based-Projec.ris',\n 'Some code demos',\n 'image-3-1024x681.jpeg',\n 'acm_3434780.3436584 (1).enw',\n 'acm_2786567.2787136.enw',\n 'Heart_Disease_Prediction.csv',\n 'Sublime Text-2.app',\n 'healthcare-dataset-stroke-data.csv',\n 'scholar-9.enw',\n '1694956886024051.png',\n 'maxresdefault9.jpeg',\n 'scholar-8.enw',\n 'practical_C1_producerconsumer1.doc',\n 'acm_2851581.2892495 (1).enw',\n 'Jon-Jones-Stipe-Miocic.jpeg',\n 'Logbook_September-_SINGH_JASKIRAT.docx',\n 'pygame-1.9.6',\n 'Interstellar.2014.4K.HDR.2160p.BDRip Ita Eng x265-NAHOM',\n 'IMDB Dataset.csv',\n 'image.jpeg',\n 'Logbook_October-_SINGH_JASKIRAT.docx',\n '6e2rqe4sos5b1.jpeg',\n 'SelfControl.app',\n 'CGw_eUnUgAEmOSQ.jpeg',\n '1699489066781729.png',\n 'pub_data.csv',\n 'Logbook_August_Jaskirat-2_1_.docx',\n 'sad-musashi-v0-sd64jajntpsa1.webp',\n 'a2f596cb74718016686ff7ea67be5d7d.jpeg',\n 'scholar (6).enw',\n '1692815613615524s.jpeg',\n 'Movie Recommendation System Worksheet.docx',\n 'Logbook_July_Jaskirat.docx',\n 'Assessment Schedule Template 2023 2024 - Copy.xlsx',\n 'WhatsApp Image 2023-08-02 at 09.08.08 (1).jpeg',\n 'Gattaca.1997.2160p.UHD.BluRay.x265.10bit.HDR.DTS-HD.MA.TrueHD.7.1.Atmos-SWTYBLZ',\n 'Y3OIvPsNNVvnn0aX1_OQkiOwA7lNgiKsQ2vMMRhcFZ8 (1).webp',\n 'collage-maker-19-mar-2023-06-18-am-6077.jpg',\n '02c5621b-d76e-417f-b6b4-a9da00dbdef2.mp4',\n 'FreedomSetup.dmg',\n 'heart+disease',\n 'producerconsumer-2',\n 'Y3OIvPsNNVvnn0aX1_OQkiOwA7lNgiKsQ2vMMRhcFZ8.webp',\n 'Berserk (Digital) (danke-Empire)',\n 'GettyImages-1154259183-1110x1065.jpg.webp',\n 'phone_data.csv',\n 'Visual Studio Code-2.app',\n '826298e919555c75b448742ff7ed323a--los-angeles-beautiful-people.jpeg',\n 'mendeley-reference-manager-2.106.1-x64.dmg',\n 'The.Wire.S01.1080p.BluRay.x265-RARBG',\n 'cropped-3840-2160-666358.jpg',\n 'Parkinsson disease.csv',\n 'android-studio-2023.1.1.26-mac_arm.dmg',\n 'Logbook_December-_SINGH_JASKIRAT.docx',\n 'acm_2851581.2892495.enw',\n '1679349813385400.jpeg',\n 'Pokemon2.png',\n 'CO3408 S3 Contracts.pptx',\n 'Towards_Automatic_Personalised_Mobile_Health_Inter.pdf',\n '~$skirat Singh UG.docx',\n 'scholar (1).enw',\n 'scholar-22.enw',\n '[ColoredManga] Vagabond v01-37',\n 'CO3408 C5 Concurrency Primitives.pptx',\n '08de4a3caecd31330afc46cef60b0598.jpg',\n 'c3f.jpeg',\n 'scholar-23.enw',\n 'Screenshot_20230819_11482(...).jpg',\n '1693018060273576.webm',\n '55108-bias-in-artificial-intelligence.pdf',\n '16s6tul7k1na1.jpeg',\n 'tumblr_notlw0mNez1qci1qdo3_r8_1280.jpeg',\n 'Pokemon3.png',\n 'Spring.Breakers.2012.1080p.BluRay.x264-SPARKS',\n 'c94fa2bcf8f688262e61f4915e13464b.jpeg',\n 'CO3408 C2 Concurrency in Java.pptx',\n 'maxresdefault780.jpeg',\n '[Baws] Attack on Titan - S04E30 - The Final Chapters (Part 2) (WEB 1080p Hi10 EAC3) [90248211].mkv',\n 'scholar-21.enw',\n 'Once.Upon.a.Time.in.America.1984.EXTENDED.1080p.BluRay.REMUX.AVC.DTS-HD.MA.5.1-FGT',\n 'scholar-20.enw',\n 'maxresdefault-4.jpg',\n 'archive.zip',\n 'producerconsumer',\n 'vagabond-takehiko-inoue-wallpaper-f8caaa3ad89c7da1451d37cc5449be15.jpg',\n '[Judas] Psycho-Pass (Season 1) [BD 1080p][HEVC x265 10bit][Dual-Audio][Eng-Sub]',\n 'RadAI',\n '~$3808 Project Assignment Brief Final 2024.docx',\n 'A-Path-Finding-Visualization-master',\n 'Pokemon4.png',\n 'CO3408 C1 Concurrency.pptx',\n 'Logbook August Jaskirat-2 (1).docx',\n '1693015803973463.webm',\n 'WhatsApp Image 2023-08-02 at 09.08.08.jpeg',\n 'scholar-24.enw',\n 'scholar-18.enw',\n '1681075990144012.jpeg',\n '1690029960075140.jpeg',\n 'Unconfirmed 4733.crdownload',\n 'Taxi.Driver.1976.2160p.UHD.BluRay.x265.10bit.HDR.DTS-HD.MA.5.1-RARBG',\n 'scholar-19.enw',\n 'scholar-25.enw',\n 'archive (1).zip',\n 'visualstudioformacinstaller-17.5.0.124.dmg',\n 'Pokemon5.png',\n 'Pokemon7.png',\n 'Y7DHpYN.jpeg',\n '1694547958567691.png',\n '1692232599479538.webm',\n 'scholar-27.enw',\n 'Cillian_Murphy-6546817+copy.jpeg',\n 'maxresdefault-3.jpg',\n 'F0_nPJxWAAMoFk1.jpg-large.jpeg',\n 'maxresdefault-2.jpg',\n 'scholar-26.enw',\n 'NaverWhale.dmg',\n 'CO3808 Project Assignment Brief Final 2024.docx',\n 'CO3408 C4 Deadlock.pptx',\n 'My EndNote Library.Data',\n 'alex-pereira-pereira-ufc-min.gif',\n 'resetImg.png',\n 'Pokemon6.png',\n 'Sublime Text.app']"
     },
     "execution_count": 3,
     "metadata": {},
     "output_type": "execute_result"
    }
   ],
   "source": [
    "os.listdir(path)"
   ],
   "metadata": {
    "collapsed": false,
    "ExecuteTime": {
     "end_time": "2023-12-24T23:12:41.395761Z",
     "start_time": "2023-12-24T23:12:41.384771Z"
    }
   },
   "id": "b8a99c5e06c04e30"
  },
  {
   "cell_type": "code",
   "execution_count": 4,
   "outputs": [
    {
     "data": {
      "text/plain": "False"
     },
     "execution_count": 4,
     "metadata": {},
     "output_type": "execute_result"
    }
   ],
   "source": [
    "os.path.exists(path+'csv files')"
   ],
   "metadata": {
    "collapsed": false,
    "ExecuteTime": {
     "end_time": "2023-12-24T23:13:24.435258Z",
     "start_time": "2023-12-24T23:13:24.432029Z"
    }
   },
   "id": "c6a7806107ba36b1"
  },
  {
   "cell_type": "code",
   "execution_count": null,
   "outputs": [],
   "source": [
    "folder_names - ['csv files', 'image files','video files','docx files','pdf files','dmg files']\n",
    "for loop in range(0,5):\n",
    "    if not os.path.exists(path + folder_names[loop]:\n",
    "        os.makedirs(path+ folder_names[loop])"
   ],
   "metadata": {
    "collapsed": false
   },
   "id": "db14a70b6e99b7d3"
  }
 ],
 "metadata": {
  "kernelspec": {
   "display_name": "Python 3",
   "language": "python",
   "name": "python3"
  },
  "language_info": {
   "codemirror_mode": {
    "name": "ipython",
    "version": 2
   },
   "file_extension": ".py",
   "mimetype": "text/x-python",
   "name": "python",
   "nbconvert_exporter": "python",
   "pygments_lexer": "ipython2",
   "version": "2.7.6"
  }
 },
 "nbformat": 4,
 "nbformat_minor": 5
}
